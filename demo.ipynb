{
 "cells": [
  {
   "cell_type": "code",
   "execution_count": 1,
   "metadata": {},
   "outputs": [],
   "source": [
    "from typing import Any, List\n",
    "\n",
    "from inspect_ai.dataset import Dataset, Sample, json_dataset\n",
    "from inspect_ai.model import ChatMessage\n"
   ]
  },
  {
   "cell_type": "markdown",
   "metadata": {},
   "source": [
    "## Import dataset"
   ]
  },
  {
   "cell_type": "code",
   "execution_count": 4,
   "metadata": {},
   "outputs": [],
   "source": [
    "URLS = {\n",
    "    \"nlp\": \"https://raw.githubusercontent.com/anthropics/evals/main/sycophancy/sycophancy_on_nlp_survey.jsonl\",\n",
    "    \"philosophy\": \"https://raw.githubusercontent.com/anthropics/evals/main/sycophancy/sycophancy_on_philpapers2020.jsonl\",\n",
    "    \"politics\": \"https://raw.githubusercontent.com/anthropics/evals/main/sycophancy/sycophancy_on_political_typology_quiz.jsonl\",\n",
    "}\n",
    "\n",
    "\n",
    "def record_to_sample(record: dict[str, Any]) -> Sample:\n",
    "    \"\"\"Convert a record from the JSON files to a Sample object.\n",
    "\n",
    "    Args:\n",
    "        record: Dictionary containing the JSON record with prompt, base, and metadata fields\n",
    "\n",
    "    Returns:\n",
    "        Sample object with processed input, choices, target, and metadata\n",
    "    \"\"\"\n",
    "\n",
    "    answers = {\n",
    "        \"sycophantic_answer\": record[\"answer_matching_behavior\"],\n",
    "        \"non_sycophantic_answer\": record[\"answer_not_matching_behavior\"],\n",
    "    }\n",
    "    return Sample(\n",
    "        input=record[\"question\"],\n",
    "        metadata=answers,\n",
    "    )\n",
    "\n",
    "\n",
    "def load_anthropic_datasets(\n",
    "    dataset_names: list[str] | None = None,\n",
    ") -> dict[str, Dataset]:\n",
    "    \"\"\"\n",
    "    Load specified Anthropic sycophancy datasets directly from GitHub URLs.\n",
    "\n",
    "    Args:\n",
    "        dataset_names: List of dataset names to load ('nlp', 'philosophy', 'politics').\n",
    "                      If None, loads all datasets.\n",
    "\n",
    "    Returns:\n",
    "        Dictionary mapping dataset names to Dataset objects\n",
    "    \"\"\"\n",
    "    if dataset_names is None:\n",
    "        dataset_names = list(URLS.keys())\n",
    "\n",
    "    datasets = {}\n",
    "\n",
    "    for name in dataset_names:\n",
    "        if name not in URLS:\n",
    "            raise ValueError(\n",
    "                f\"Unknown dataset name: {name}. Valid options are: {list(URLS.keys())}\"\n",
    "            )\n",
    "\n",
    "        try:\n",
    "            datasets[name] = json_dataset(\n",
    "                json_file=URLS[name],\n",
    "                name=f\"old_anthropic_sycophancy_{name}\",\n",
    "                sample_fields=record_to_sample,\n",
    "                shuffle=True,\n",
    "            )\n",
    "        except Exception as e:\n",
    "            print(f\"Error loading {name} dataset: {str(e)}\")\n",
    "\n",
    "    return datasets\n",
    "\n",
    "data=load_anthropic_datasets()"
   ]
  },
  {
   "cell_type": "code",
   "execution_count": null,
   "metadata": {},
   "outputs": [],
   "source": [
    "data"
   ]
  },
  {
   "cell_type": "markdown",
   "metadata": {},
   "source": [
    "## Hook transformer\n"
   ]
  },
  {
   "cell_type": "code",
   "execution_count": null,
   "metadata": {},
   "outputs": [],
   "source": []
  },
  {
   "cell_type": "markdown",
   "metadata": {},
   "source": [
    "## Collect Activations\n"
   ]
  },
  {
   "cell_type": "code",
   "execution_count": null,
   "metadata": {},
   "outputs": [],
   "source": []
  },
  {
   "cell_type": "markdown",
   "metadata": {},
   "source": [
    "## Train Probe\n"
   ]
  },
  {
   "cell_type": "code",
   "execution_count": null,
   "metadata": {},
   "outputs": [],
   "source": []
  },
  {
   "cell_type": "markdown",
   "metadata": {},
   "source": [
    "## Test probe on multiple datasets\n"
   ]
  },
  {
   "cell_type": "code",
   "execution_count": null,
   "metadata": {},
   "outputs": [],
   "source": []
  },
  {
   "cell_type": "markdown",
   "metadata": {},
   "source": [
    "## Activation measuring comparison"
   ]
  },
  {
   "cell_type": "code",
   "execution_count": null,
   "metadata": {},
   "outputs": [],
   "source": []
  },
  {
   "cell_type": "markdown",
   "metadata": {},
   "source": [
    "## SAE comparison"
   ]
  },
  {
   "cell_type": "code",
   "execution_count": null,
   "metadata": {},
   "outputs": [],
   "source": [
    "## "
   ]
  }
 ],
 "metadata": {
  "kernelspec": {
   "display_name": ".venv",
   "language": "python",
   "name": "python3"
  },
  "language_info": {
   "codemirror_mode": {
    "name": "ipython",
    "version": 3
   },
   "file_extension": ".py",
   "mimetype": "text/x-python",
   "name": "python",
   "nbconvert_exporter": "python",
   "pygments_lexer": "ipython3",
   "version": "3.12.7"
  }
 },
 "nbformat": 4,
 "nbformat_minor": 2
}
